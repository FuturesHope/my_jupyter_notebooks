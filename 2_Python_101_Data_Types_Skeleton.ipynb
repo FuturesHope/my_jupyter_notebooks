{
  "nbformat": 4,
  "nbformat_minor": 0,
  "metadata": {
    "colab": {
      "name": "2. Python 101 - Data Types - Skeleton.ipynb",
      "provenance": [],
      "collapsed_sections": [],
      "include_colab_link": true
    },
    "kernelspec": {
      "display_name": "Python 3",
      "language": "python",
      "name": "python3"
    },
    "language_info": {
      "codemirror_mode": {
        "name": "ipython",
        "version": 3
      },
      "file_extension": ".py",
      "mimetype": "text/x-python",
      "name": "python",
      "nbconvert_exporter": "python",
      "pygments_lexer": "ipython3",
      "version": "3.7.6"
    }
  },
  "cells": [
    {
      "cell_type": "markdown",
      "metadata": {
        "id": "view-in-github",
        "colab_type": "text"
      },
      "source": [
        "<a href=\"https://colab.research.google.com/github/FuturesHope/my_jupyter_notebooks/blob/main/2_Python_101_Data_Types_Skeleton.ipynb\" target=\"_parent\"><img src=\"https://colab.research.google.com/assets/colab-badge.svg\" alt=\"Open In Colab\"/></a>"
      ]
    },
    {
      "cell_type": "markdown",
      "metadata": {
        "id": "jAvAN1PiB8bc"
      },
      "source": [
        "# 1. BOOLEANS"
      ]
    },
    {
      "cell_type": "code",
      "metadata": {
        "id": "nQxJN0ShB_Ae"
      },
      "source": [
        "# Boolean values can be represented as one of two constant objects \"False\" and \"True\". \n",
        "# Booleans behave like integers 0 and 1.\n"
      ],
      "execution_count": 4,
      "outputs": []
    },
    {
      "cell_type": "code",
      "metadata": {
        "id": "MWOLRKg-B_D6"
      },
      "source": [
        ""
      ],
      "execution_count": 4,
      "outputs": []
    },
    {
      "cell_type": "code",
      "metadata": {
        "id": "oDfoK28ZB_SO"
      },
      "source": [
        ""
      ],
      "execution_count": 4,
      "outputs": []
    },
    {
      "cell_type": "markdown",
      "metadata": {
        "id": "zK3GTZaCFwNt"
      },
      "source": [
        "**MINI CHALLENGE #1:** \n",
        "- **What will this code generate?**\n",
        "```\n",
        "stock_1_price = 20\n",
        "stock_2_price = 30\n",
        "print((stock_1_price < stock_2_price))\n",
        "print(stock_1_price == stock_2_price)\n",
        "```"
      ]
    },
    {
      "cell_type": "code",
      "metadata": {
        "id": "Fk7waP-xUtan",
        "outputId": "eafc738d-2791-48f6-e81c-2f79778462e2",
        "colab": {
          "base_uri": "https://localhost:8080/",
          "height": 52
        }
      },
      "source": [
        "stock_1_price = 20\n",
        "stock_2_price = 30\n",
        "print((stock_1_price < stock_2_price))\n",
        "print(stock_1_price == stock_2_price)"
      ],
      "execution_count": 5,
      "outputs": [
        {
          "output_type": "stream",
          "text": [
            "True\n",
            "False\n"
          ],
          "name": "stdout"
        }
      ]
    },
    {
      "cell_type": "markdown",
      "metadata": {
        "id": "_5r-dUNX7nfy"
      },
      "source": [
        "# 2. LIST"
      ]
    },
    {
      "cell_type": "code",
      "metadata": {
        "id": "F27HZd8a60zD"
      },
      "source": [
        "# A list is a collection which is ordered and changeable. \n",
        "# List allows duplicate members.\n"
      ],
      "execution_count": 6,
      "outputs": []
    },
    {
      "cell_type": "code",
      "metadata": {
        "id": "AeHE6akU70RX"
      },
      "source": [
        "# Obtain the datatype\n"
      ],
      "execution_count": 7,
      "outputs": []
    },
    {
      "cell_type": "code",
      "metadata": {
        "id": "qaiXmQs570Vv"
      },
      "source": [
        "# list with mixed datatypes (for example you can have strings and integers in one list)\n"
      ],
      "execution_count": 8,
      "outputs": []
    },
    {
      "cell_type": "code",
      "metadata": {
        "id": "PNJjE3qX70YR"
      },
      "source": [
        "# You can have a list inside another list (nested list)\n",
        "list2= ['GOOG', [3, 6, 7]]"
      ],
      "execution_count": 9,
      "outputs": []
    },
    {
      "cell_type": "code",
      "metadata": {
        "id": "XZZiMb2c70f6",
        "outputId": "3964039d-f075-44bf-91ba-27c3c67bb42e",
        "colab": {
          "base_uri": "https://localhost:8080/",
          "height": 35
        }
      },
      "source": [
        "## Access specific elements in the list with Indexing\n",
        "# Note that the first element in the list has an index of 0 (little confusing but you'll get used to it!)\n",
        "'GOOG'[2]"
      ],
      "execution_count": 10,
      "outputs": [
        {
          "output_type": "execute_result",
          "data": {
            "application/vnd.google.colaboratory.intrinsic+json": {
              "type": "string"
            },
            "text/plain": [
              "'O'"
            ]
          },
          "metadata": {
            "tags": []
          },
          "execution_count": 10
        }
      ]
    },
    {
      "cell_type": "code",
      "metadata": {
        "id": "I6z3Ls6R70iU"
      },
      "source": [
        "# indexing for nested lists\n"
      ],
      "execution_count": 11,
      "outputs": []
    },
    {
      "cell_type": "code",
      "metadata": {
        "id": "5Bx9hZPc70o4",
        "outputId": "f8586735-0d28-450c-844a-0fd88625a397",
        "colab": {
          "base_uri": "https://localhost:8080/",
          "height": 35
        }
      },
      "source": [
        "list2[-2]"
      ],
      "execution_count": 12,
      "outputs": [
        {
          "output_type": "execute_result",
          "data": {
            "application/vnd.google.colaboratory.intrinsic+json": {
              "type": "string"
            },
            "text/plain": [
              "'GOOG'"
            ]
          },
          "metadata": {
            "tags": []
          },
          "execution_count": 12
        }
      ]
    },
    {
      "cell_type": "code",
      "metadata": {
        "id": "hEHd__Zr70nj"
      },
      "source": [
        ""
      ],
      "execution_count": 12,
      "outputs": []
    },
    {
      "cell_type": "code",
      "metadata": {
        "id": "4KVMQSCO70lg"
      },
      "source": [
        "# Negative Indexing\n"
      ],
      "execution_count": 13,
      "outputs": []
    },
    {
      "cell_type": "code",
      "metadata": {
        "id": "-Bw1wI_h70dw"
      },
      "source": [
        "# List Slicing (getting more than one element from a list) \n",
        "\n",
        "# obtain elements starting from index 3 up to and not including element with index 6  \n"
      ],
      "execution_count": 14,
      "outputs": []
    },
    {
      "cell_type": "code",
      "metadata": {
        "id": "VGsNNIpn9ILB",
        "outputId": "af44d3e3-f07e-44ff-e0df-eb340051f478",
        "colab": {
          "base_uri": "https://localhost:8080/",
          "height": 34
        }
      },
      "source": [
        "# Obtain elements starting from index 3 to end\n",
        "['GOOG', 'SP500', 'AMZN', 15][-2:]"
      ],
      "execution_count": 15,
      "outputs": [
        {
          "output_type": "execute_result",
          "data": {
            "text/plain": [
              "['AMZN', 15]"
            ]
          },
          "metadata": {
            "tags": []
          },
          "execution_count": 15
        }
      ]
    },
    {
      "cell_type": "code",
      "metadata": {
        "id": "W0Z8oCAC9IJL"
      },
      "source": [
        "# All elements start to end\n"
      ],
      "execution_count": 16,
      "outputs": []
    },
    {
      "cell_type": "code",
      "metadata": {
        "id": "Z4sY6MEJ9IGv",
        "outputId": "c8f0b31f-cc84-4d2d-b31f-db3822ef8301",
        "colab": {
          "base_uri": "https://localhost:8080/",
          "height": 34
        }
      },
      "source": [
        "# Obtain the length of the list (how many elements in the list) \n",
        "x = [2, 5, 7, 'GOOG', 'SP500', 'AMZN', 15]\n",
        "y = len(x)\n",
        "y"
      ],
      "execution_count": 17,
      "outputs": [
        {
          "output_type": "execute_result",
          "data": {
            "text/plain": [
              "7"
            ]
          },
          "metadata": {
            "tags": []
          },
          "execution_count": 17
        }
      ]
    },
    {
      "cell_type": "markdown",
      "metadata": {
        "id": "Q1qcVBl7G1GO"
      },
      "source": [
        "**MINI CHALLENGE #2:**\n",
        "- **Print the first, second and last element in the list below**\n",
        "- **Print all elements in the list, first 3 elements, and last three elements**\n",
        "\n",
        "```\n",
        "stocks = [\"GOOG\", \"TSLA\", \"AAPL\", \"T\", \"SP500\", \"BTC\", \"EUR/USD\"]\n",
        "```\n",
        "\n"
      ]
    },
    {
      "cell_type": "code",
      "metadata": {
        "id": "adQzmLx7Y7p7",
        "outputId": "3df3dc57-20b7-438f-a71d-8b93c0c74bb9",
        "colab": {
          "base_uri": "https://localhost:8080/",
          "height": 34
        }
      },
      "source": [
        "stocks = [\"GOOG\", \"TSLA\", \"AAPL\", \"T\", \"SP500\", \"BTC\", \"EUR/USD\"]\n",
        "print(stocks[-3:])"
      ],
      "execution_count": 18,
      "outputs": [
        {
          "output_type": "stream",
          "text": [
            "['SP500', 'BTC', 'EUR/USD']\n"
          ],
          "name": "stdout"
        }
      ]
    },
    {
      "cell_type": "markdown",
      "metadata": {
        "id": "pqPdr6RNINsf"
      },
      "source": [
        "**MINI CHALLENGE #3:** \n",
        "- **Print GOOG**\n",
        "- **Print AAPL, GOOG, TSLA** \n",
        "- **Print T with two different ways**\n",
        "\n",
        "```\n",
        "my_list = [\"SP500\", [\"AAPL\", \"GOOG\", \"TSLA\"], \"BTC\", \"T\"]\n",
        "```\n"
      ]
    },
    {
      "cell_type": "code",
      "metadata": {
        "id": "IK8CAI695KFs",
        "outputId": "2fff8a9b-e71f-4834-bbe6-e17d3d8e964e",
        "colab": {
          "base_uri": "https://localhost:8080/",
          "height": 34
        }
      },
      "source": [
        "print(stocks[0])"
      ],
      "execution_count": 19,
      "outputs": [
        {
          "output_type": "stream",
          "text": [
            "GOOG\n"
          ],
          "name": "stdout"
        }
      ]
    },
    {
      "cell_type": "code",
      "metadata": {
        "id": "euOBMvEw5UM2",
        "outputId": "2a1e9c84-e47c-49d3-a5c3-0fe1176d0f76",
        "colab": {
          "base_uri": "https://localhost:8080/",
          "height": 34
        }
      },
      "source": [
        "print(f'{stocks[2]}, {stocks[0]}, {stocks[1]}')"
      ],
      "execution_count": 20,
      "outputs": [
        {
          "output_type": "stream",
          "text": [
            "AAPL, GOOG, TSLA\n"
          ],
          "name": "stdout"
        }
      ]
    },
    {
      "cell_type": "markdown",
      "metadata": {
        "id": "7a2j5iF8CYCU"
      },
      "source": [
        "# 3. DICTIONARY"
      ]
    },
    {
      "cell_type": "code",
      "metadata": {
        "id": "RrxN16VRCbyz"
      },
      "source": [
        "# my_dict = {'key1':'value1', 'key2':'value2', 'key3':'value3'}\n",
        "# Dictionary consists of a collection of key-value pairs. Each key-value pair maps the key to its corresponding value.\n",
        "# Keys are unique within a dictionary while values may not be. \n",
        "# List elements are accessed by their position in the list, via indexing while Dictionary elements are accessed via keys\n",
        "\n",
        "# Define a dictionary using key-value pairs\n"
      ],
      "execution_count": 21,
      "outputs": []
    },
    {
      "cell_type": "code",
      "metadata": {
        "id": "dToa9hHWCcO5",
        "outputId": "954551c0-6387-4e05-f836-a37979a3e8fd",
        "colab": {
          "base_uri": "https://localhost:8080/",
          "height": 34
        }
      },
      "source": [
        "# View the dictionary\n",
        "dictionary_one = {'key1': 'value1', 'key2': 'value2', 'key3': 'value3'}\n",
        "dictionary_one"
      ],
      "execution_count": 22,
      "outputs": [
        {
          "output_type": "execute_result",
          "data": {
            "text/plain": [
              "{'key1': 'value1', 'key2': 'value2', 'key3': 'value3'}"
            ]
          },
          "metadata": {
            "tags": []
          },
          "execution_count": 22
        }
      ]
    },
    {
      "cell_type": "code",
      "metadata": {
        "id": "KczBnCdmCcA5",
        "outputId": "80effbfd-aaa7-4627-bbe7-ea4449041f1f",
        "colab": {
          "base_uri": "https://localhost:8080/",
          "height": 34
        }
      },
      "source": [
        "# Check the data type\n",
        "type(dictionary_one)"
      ],
      "execution_count": 23,
      "outputs": [
        {
          "output_type": "execute_result",
          "data": {
            "text/plain": [
              "dict"
            ]
          },
          "metadata": {
            "tags": []
          },
          "execution_count": 23
        }
      ]
    },
    {
      "cell_type": "code",
      "metadata": {
        "id": "dThsTYeaCb-l",
        "outputId": "7214b0a0-79bf-4c5f-92da-d2f1fbdb8682",
        "colab": {
          "base_uri": "https://localhost:8080/",
          "height": 35
        }
      },
      "source": [
        "# Access specific element in the dictionary using a specific key (ex: Key2)\n",
        "# View the dictionary\n",
        "dictionary_one = {'key1': 'value1', 'key2': 'value2', 'key3': 'value3'}\n",
        "# dictionary_one\n",
        "dictionary_one[\"key2\"]"
      ],
      "execution_count": 24,
      "outputs": [
        {
          "output_type": "execute_result",
          "data": {
            "application/vnd.google.colaboratory.intrinsic+json": {
              "type": "string"
            },
            "text/plain": [
              "'value2'"
            ]
          },
          "metadata": {
            "tags": []
          },
          "execution_count": 24
        }
      ]
    },
    {
      "cell_type": "code",
      "metadata": {
        "id": "Li70lw0jCb87"
      },
      "source": [
        "# Define a dictionary for a bank client listing all his/her assets! \n"
      ],
      "execution_count": 25,
      "outputs": []
    },
    {
      "cell_type": "code",
      "metadata": {
        "id": "G_I_rJsWCb6E"
      },
      "source": [
        "# Access elements in the dictionary\n",
        "dict10 =  {'Real estate': 150000, 'stocks': 10000, 'savings': 20000}"
      ],
      "execution_count": 26,
      "outputs": []
    },
    {
      "cell_type": "code",
      "metadata": {
        "id": "1DigIhEQCb3x",
        "outputId": "90baadbc-6f4e-404f-a18c-a2eaf00ba239",
        "colab": {
          "base_uri": "https://localhost:8080/",
          "height": 34
        }
      },
      "source": [
        "# Add a new item to an existing dictionary\n",
        "dict10[\"Crypto\"] = 1500\n",
        "dict10\n",
        "# {'Real estate': 150000, 'stocks': 10000, 'savings': 20000}[\"Crypto\"] = 1500"
      ],
      "execution_count": 27,
      "outputs": [
        {
          "output_type": "execute_result",
          "data": {
            "text/plain": [
              "{'Crypto': 1500, 'Real estate': 150000, 'savings': 20000, 'stocks': 10000}"
            ]
          },
          "metadata": {
            "tags": []
          },
          "execution_count": 27
        }
      ]
    },
    {
      "cell_type": "code",
      "metadata": {
        "id": "m05N8LIiCb0_",
        "outputId": "556349f5-429f-4c82-9474-5107cbce57da",
        "colab": {
          "base_uri": "https://localhost:8080/",
          "height": 34
        }
      },
      "source": [
        "# remove an item from the dictionary\n",
        "del(dict10[\"Crypto\"])\n",
        "dict10"
      ],
      "execution_count": 28,
      "outputs": [
        {
          "output_type": "execute_result",
          "data": {
            "text/plain": [
              "{'Real estate': 150000, 'savings': 20000, 'stocks': 10000}"
            ]
          },
          "metadata": {
            "tags": []
          },
          "execution_count": 28
        }
      ]
    },
    {
      "cell_type": "code",
      "metadata": {
        "id": "c4GKclEzCoMe",
        "outputId": "d2f32f40-e6db-462c-98f7-05d158e7e543",
        "colab": {
          "base_uri": "https://localhost:8080/",
          "height": 219
        }
      },
      "source": [
        "# delete the entire dictionary\n",
        "# Note that you cannot print it out again because the entire dictionary has been deleted\n",
        "del(dict10)\n",
        "dict10"
      ],
      "execution_count": 30,
      "outputs": [
        {
          "output_type": "error",
          "ename": "NameError",
          "evalue": "ignored",
          "traceback": [
            "\u001b[0;31m---------------------------------------------------------------------------\u001b[0m",
            "\u001b[0;31mNameError\u001b[0m                                 Traceback (most recent call last)",
            "\u001b[0;32m<ipython-input-30-4d9dbecb2ce4>\u001b[0m in \u001b[0;36m<module>\u001b[0;34m()\u001b[0m\n\u001b[1;32m      1\u001b[0m \u001b[0;31m# delete the entire dictionary\u001b[0m\u001b[0;34m\u001b[0m\u001b[0;34m\u001b[0m\u001b[0;34m\u001b[0m\u001b[0m\n\u001b[1;32m      2\u001b[0m \u001b[0;31m# Note that you cannot print it out again because the entire dictionary has been deleted\u001b[0m\u001b[0;34m\u001b[0m\u001b[0;34m\u001b[0m\u001b[0;34m\u001b[0m\u001b[0m\n\u001b[0;32m----> 3\u001b[0;31m \u001b[0;32mdel\u001b[0m\u001b[0;34m(\u001b[0m\u001b[0mdict10\u001b[0m\u001b[0;34m)\u001b[0m\u001b[0;34m\u001b[0m\u001b[0;34m\u001b[0m\u001b[0m\n\u001b[0m\u001b[1;32m      4\u001b[0m \u001b[0mdict10\u001b[0m\u001b[0;34m\u001b[0m\u001b[0;34m\u001b[0m\u001b[0m\n",
            "\u001b[0;31mNameError\u001b[0m: name 'dict10' is not defined"
          ]
        }
      ]
    },
    {
      "cell_type": "markdown",
      "metadata": {
        "id": "9llozT9XLiqI"
      },
      "source": [
        "**MINI CHALLENGE #4:**\n",
        "- **Create a dictionary with 3 of your favourite stocks and their prices** \n"
      ]
    },
    {
      "cell_type": "code",
      "metadata": {
        "id": "KHOBUBNeKDXr",
        "outputId": "2bfea1a4-08fb-4353-e76d-f4119fa7f917",
        "colab": {
          "base_uri": "https://localhost:8080/",
          "height": 34
        }
      },
      "source": [
        "my_stock = {\"A\":10, \"Z\":11, \"D\":15}\n",
        "my_stock"
      ],
      "execution_count": 31,
      "outputs": [
        {
          "output_type": "execute_result",
          "data": {
            "text/plain": [
              "{'A': 10, 'D': 15, 'Z': 11}"
            ]
          },
          "metadata": {
            "tags": []
          },
          "execution_count": 31
        }
      ]
    },
    {
      "cell_type": "markdown",
      "metadata": {
        "id": "6kLIKQOZ6rNe"
      },
      "source": [
        "# 4. STRINGS"
      ]
    },
    {
      "cell_type": "code",
      "metadata": {
        "id": "rDjVcbLd6xJf"
      },
      "source": [
        "# A string in Python is a sequence of characters\n",
        "# String can be enclosed by either double or single quotes\n",
        "stra = \"Hello Everyone and Welcome to Python for finance course!\""
      ],
      "execution_count": 32,
      "outputs": []
    },
    {
      "cell_type": "code",
      "metadata": {
        "id": "_UN8zNOJ60ud",
        "outputId": "c1538de8-97e2-4dc4-896f-bc3d8279e631",
        "colab": {
          "base_uri": "https://localhost:8080/",
          "height": 34
        }
      },
      "source": [
        "# Obtain the datatype\n",
        "type(stra)"
      ],
      "execution_count": 33,
      "outputs": [
        {
          "output_type": "execute_result",
          "data": {
            "text/plain": [
              "str"
            ]
          },
          "metadata": {
            "tags": []
          },
          "execution_count": 33
        }
      ]
    },
    {
      "cell_type": "code",
      "metadata": {
        "id": "2r3aHdjn60wz"
      },
      "source": [
        "# Combining two strings together (Let's combine the first and last name of a bank's client)\n"
      ],
      "execution_count": 34,
      "outputs": []
    },
    {
      "cell_type": "code",
      "metadata": {
        "id": "8DZ5JbeX601H"
      },
      "source": [
        "# You can combine both strings together and add spaces in between\n"
      ],
      "execution_count": 35,
      "outputs": []
    },
    {
      "cell_type": "code",
      "metadata": {
        "id": "zOIOaPKf603q"
      },
      "source": [
        "# Methods on strings \n",
        "# upper will be used to convert the string into upper case\n"
      ],
      "execution_count": 36,
      "outputs": []
    },
    {
      "cell_type": "code",
      "metadata": {
        "id": "cX2lIPy-606m",
        "outputId": "14a418dc-3c65-4fe6-c0ed-657163f17dcb",
        "colab": {
          "base_uri": "https://localhost:8080/",
          "height": 173
        }
      },
      "source": [
        "# Split us used to divide up the string into words \n",
        "# The output from split is a list\n",
        "splitted = \"HELLO EVERYONE AND WELCOME TO PYTHON FOR FINANCE COURSE!\".split()\n",
        "splitted"
      ],
      "execution_count": 58,
      "outputs": [
        {
          "output_type": "execute_result",
          "data": {
            "text/plain": [
              "['HELLO',\n",
              " 'EVERYONE',\n",
              " 'AND',\n",
              " 'WELCOME',\n",
              " 'TO',\n",
              " 'PYTHON',\n",
              " 'FOR',\n",
              " 'FINANCE',\n",
              " 'COURSE!']"
            ]
          },
          "metadata": {
            "tags": []
          },
          "execution_count": 58
        }
      ]
    },
    {
      "cell_type": "code",
      "metadata": {
        "id": "sL0bYlxv8PLN",
        "outputId": "11eb03a5-b931-4323-f540-2378212788cc",
        "colab": {
          "base_uri": "https://localhost:8080/",
          "height": 34
        }
      },
      "source": [
        "# Let's check that the datatype is list!\n",
        "type(splitted)"
      ],
      "execution_count": 59,
      "outputs": [
        {
          "output_type": "execute_result",
          "data": {
            "text/plain": [
              "list"
            ]
          },
          "metadata": {
            "tags": []
          },
          "execution_count": 59
        }
      ]
    },
    {
      "cell_type": "code",
      "metadata": {
        "id": "sMlID0mv8Udk"
      },
      "source": [
        "# you can index any element in the list using indexing\n"
      ],
      "execution_count": 39,
      "outputs": []
    },
    {
      "cell_type": "code",
      "metadata": {
        "id": "icNCEq2x609e",
        "outputId": "9c5b047f-d7e7-49d8-9ab5-6c32d273df42",
        "colab": {
          "base_uri": "https://localhost:8080/",
          "height": 156
        }
      },
      "source": [
        "# you can specify which letter could be choosed to perform the split\n",
        "new_str = \"HELLO EVERYONE AND WELCOME TO PYTHON FOR FINANCE COURSE!\"\n",
        "splitted_new = new_str.split(\"O\")\n",
        "splitted_new"
      ],
      "execution_count": 76,
      "outputs": [
        {
          "output_type": "execute_result",
          "data": {
            "text/plain": [
              "['HELL',\n",
              " ' EVERY',\n",
              " 'NE AND WELC',\n",
              " 'ME T',\n",
              " ' PYTH',\n",
              " 'N F',\n",
              " 'R FINANCE C',\n",
              " 'URSE!']"
            ]
          },
          "metadata": {
            "tags": []
          },
          "execution_count": 76
        }
      ]
    },
    {
      "cell_type": "markdown",
      "metadata": {
        "id": "9cN9W4bkM-vs"
      },
      "source": [
        "**MINI CHALLENGE #5:**\n",
        "- **Write a code that takes an input from a bank client asking him/her about their feedback regarding the service. The code should split the client input into words and print them on screen**\n"
      ]
    },
    {
      "cell_type": "code",
      "metadata": {
        "id": "cWKRpQ7WOSnu",
        "outputId": "3859f8fd-b2b1-4399-cb00-e4c44657d891",
        "colab": {
          "base_uri": "https://localhost:8080/",
          "height": 86
        }
      },
      "source": [
        "client_feedback = input(\" Please provide your feedback: \")\n",
        "split_feedback = client_feedback.split()\n",
        "for w in split_feedback:\n",
        "  print(w)"
      ],
      "execution_count": 77,
      "outputs": [
        {
          "output_type": "stream",
          "text": [
            " Please provide your feedback: nice one pal\n",
            "nice\n",
            "one\n",
            "pal\n"
          ],
          "name": "stdout"
        }
      ]
    },
    {
      "cell_type": "markdown",
      "metadata": {
        "id": "EdyxRUooNz5m"
      },
      "source": [
        "**MINI CHALLENGE #6:**\n",
        "- **Write a code that prompts a user requesting his/her e-mail and then extracts the user first name (Note that the e-mail is in firstname.lastname@gmail.com**\n"
      ]
    },
    {
      "cell_type": "code",
      "metadata": {
        "id": "0P41ds4zNrKl",
        "outputId": "41d88384-cbce-453f-82e2-7e8be8a0fd18",
        "colab": {
          "base_uri": "https://localhost:8080/",
          "height": 52
        }
      },
      "source": [
        "email = input(\"Plz provide your email: \")\n",
        "first_name = email.split(\".\")\n",
        "first_name[0]"
      ],
      "execution_count": 80,
      "outputs": [
        {
          "output_type": "stream",
          "text": [
            "Plz provide your email: Kisa.kisovna@kisa.com\n"
          ],
          "name": "stdout"
        },
        {
          "output_type": "execute_result",
          "data": {
            "application/vnd.google.colaboratory.intrinsic+json": {
              "type": "string"
            },
            "text/plain": [
              "'Kisa'"
            ]
          },
          "metadata": {
            "tags": []
          },
          "execution_count": 80
        }
      ]
    },
    {
      "cell_type": "markdown",
      "metadata": {
        "id": "A0luXBRqEGai"
      },
      "source": [
        "# 5. TUPLES"
      ]
    },
    {
      "cell_type": "code",
      "metadata": {
        "id": "WNh06IuWENEw"
      },
      "source": [
        "# A tuple is a sequence of immutable Python objects. \n",
        "# Tuples are sequences, just like lists. \n",
        "# The differences between tuples and lists are, the tuples cannot be changed unlike lists and tuples use parentheses, whereas lists use square brackets."
      ],
      "execution_count": 41,
      "outputs": []
    },
    {
      "cell_type": "code",
      "metadata": {
        "id": "U0fyXOJPENDi"
      },
      "source": [
        ""
      ],
      "execution_count": 41,
      "outputs": []
    },
    {
      "cell_type": "code",
      "metadata": {
        "id": "STfK4bAoEM_8"
      },
      "source": [
        ""
      ],
      "execution_count": 41,
      "outputs": []
    },
    {
      "cell_type": "code",
      "metadata": {
        "id": "my6d1Ou-EM-y"
      },
      "source": [
        "# Accessing elements in a tuple\n"
      ],
      "execution_count": 42,
      "outputs": []
    },
    {
      "cell_type": "code",
      "metadata": {
        "id": "IIeC1e3qEWz6"
      },
      "source": [
        "# Tuple slicing\n"
      ],
      "execution_count": 81,
      "outputs": []
    },
    {
      "cell_type": "code",
      "metadata": {
        "id": "o_yady6jEWwL"
      },
      "source": [
        "# Changing a vlue of a tuple does not work! \n",
        "# 'tuple' object does not support item assignment\n"
      ],
      "execution_count": 44,
      "outputs": []
    },
    {
      "cell_type": "code",
      "metadata": {
        "id": "BCgEz7CdEWuP"
      },
      "source": [
        "# Create a New Tuple from existing Tuples\n"
      ],
      "execution_count": 45,
      "outputs": []
    },
    {
      "cell_type": "markdown",
      "metadata": {
        "id": "RmZ49NcKPKII"
      },
      "source": [
        "**MINI CHALLENGE #7:**\n",
        "- **Define a tuple with your first name, last name, age and the number of stocks in your portfolio. Find the length and type as well.**\n"
      ]
    },
    {
      "cell_type": "code",
      "metadata": {
        "id": "xMKjCcejQtJI",
        "outputId": "c9cf0254-279d-4cd7-838b-84dad418ab9f",
        "colab": {
          "base_uri": "https://localhost:8080/",
          "height": 34
        }
      },
      "source": [
        "data = (\"Lex\", \"whoknows\", 77, 190456)\n",
        "print(len(data))"
      ],
      "execution_count": 82,
      "outputs": [
        {
          "output_type": "stream",
          "text": [
            "4\n"
          ],
          "name": "stdout"
        }
      ]
    },
    {
      "cell_type": "code",
      "metadata": {
        "id": "OpF99mCvily6",
        "outputId": "b81107b4-a008-4c6b-e4d7-ede7c9ddcacc",
        "colab": {
          "base_uri": "https://localhost:8080/",
          "height": 34
        }
      },
      "source": [
        "type(data)"
      ],
      "execution_count": 83,
      "outputs": [
        {
          "output_type": "execute_result",
          "data": {
            "text/plain": [
              "tuple"
            ]
          },
          "metadata": {
            "tags": []
          },
          "execution_count": 83
        }
      ]
    },
    {
      "cell_type": "markdown",
      "metadata": {
        "id": "B7clmiIJEJF0"
      },
      "source": [
        "# 6. SETS "
      ]
    },
    {
      "cell_type": "code",
      "metadata": {
        "id": "wRAHn1SiEN2I"
      },
      "source": [
        "# A set is an unordered collection of items. Every element is unique (no duplicates).\n",
        "# A set is created by placing all the items (elements) inside curly braces {}, separated by comma or by using the built-in function set().\n",
        "# set of integers\n",
        "\n"
      ],
      "execution_count": 46,
      "outputs": []
    },
    {
      "cell_type": "code",
      "metadata": {
        "id": "4Y6cT3ykENzZ"
      },
      "source": [
        "# set do not have duplicates\n"
      ],
      "execution_count": 47,
      "outputs": []
    },
    {
      "cell_type": "markdown",
      "metadata": {
        "id": "XjibM376ROGD"
      },
      "source": [
        "**MINI CHALLENGE #8:**\n",
        "- **Remove the duplicates from the following list:**\n",
        "\n",
        "\n",
        "```\n",
        "my_list = ['GOOG', 'APPL', 'T','TSLA','T','AAPL', 5, 6,5]\n",
        "```\n",
        "\n",
        "\n"
      ]
    },
    {
      "cell_type": "code",
      "metadata": {
        "id": "EpKrum8GSOuv",
        "outputId": "9ad498f6-42fc-4764-f4c6-8dfb73a93696",
        "colab": {
          "base_uri": "https://localhost:8080/",
          "height": 34
        }
      },
      "source": [
        "my_list = ['GOOG', 'APPL', 'T','TSLA','T','AAPL', 5, 6,5]\n",
        "set_list = list(set(my_list))\n",
        "set_list"
      ],
      "execution_count": 88,
      "outputs": [
        {
          "output_type": "execute_result",
          "data": {
            "text/plain": [
              "['APPL', 'T', 'TSLA', 5, 6, 'AAPL', 'GOOG']"
            ]
          },
          "metadata": {
            "tags": []
          },
          "execution_count": 88
        }
      ]
    },
    {
      "cell_type": "markdown",
      "metadata": {
        "id": "OlonkaQNGdsP"
      },
      "source": [
        "# MINI CHALLENGE SOLUTIONS"
      ]
    },
    {
      "cell_type": "markdown",
      "metadata": {
        "id": "bDojguHPUkBD"
      },
      "source": [
        "**MINI CHALLENGE #1 SOLUTION:** \n",
        "- **What will this code generate?**\n",
        "```\n",
        "stock_1_price = 20\n",
        "stock_2_price = 30\n",
        "print((stock_1_price < stock_2_price))\n",
        "print(stock_1_price == stock_2_price)\n",
        "```"
      ]
    },
    {
      "cell_type": "code",
      "metadata": {
        "id": "wRRbOc1ZUkBG",
        "outputId": "c2da90ef-2d35-442c-caec-a8bc2a459cf5",
        "colab": {
          "base_uri": "https://localhost:8080/",
          "height": 52
        }
      },
      "source": [
        "stock_1_price = 20\n",
        "stock_2_price = 30\n",
        "print((stock_1_price < stock_2_price))\n",
        "print(stock_1_price == stock_2_price)"
      ],
      "execution_count": 48,
      "outputs": [
        {
          "output_type": "stream",
          "text": [
            "True\n",
            "False\n"
          ],
          "name": "stdout"
        }
      ]
    },
    {
      "cell_type": "markdown",
      "metadata": {
        "id": "T1ru2bTNHmoL"
      },
      "source": [
        "**MINI CHALLENGE #2 SOLUTION:**\n",
        "- **Print the first, second and last element in the list**\n",
        "- **Print all elements in the list, first 3 elements, and last three elements**\n",
        "\n",
        "```\n",
        "stocks = [\"GOOG\", \"TSLA\", \"AAPL\", \"T\", \"SP500\", \"BTC\", \"EUR/USD\"]\n",
        "```\n",
        "\n"
      ]
    },
    {
      "cell_type": "code",
      "metadata": {
        "id": "q9ayDKUZGlrZ",
        "outputId": "b555edf6-82df-45d2-eeac-6ab8088ba3c2",
        "colab": {
          "base_uri": "https://localhost:8080/",
          "height": 69
        }
      },
      "source": [
        "stocks = [\"GOOG\", \"TSLA\", \"AAPL\", \"T\", \"SP500\", \"BTC\", \"EUR/USD\"]\n",
        "print(stocks[0])\n",
        "print(stocks[1])\n",
        "print(stocks[-1])"
      ],
      "execution_count": 49,
      "outputs": [
        {
          "output_type": "stream",
          "text": [
            "GOOG\n",
            "TSLA\n",
            "EUR/USD\n"
          ],
          "name": "stdout"
        }
      ]
    },
    {
      "cell_type": "code",
      "metadata": {
        "id": "4WgvQ2ZTdJMZ",
        "outputId": "3343d346-7726-4f68-ef6d-5519abc8e48a",
        "colab": {
          "base_uri": "https://localhost:8080/",
          "height": 69
        }
      },
      "source": [
        "print(stocks[:])\n",
        "print(stocks[0:3])\n",
        "print(stocks[4:])"
      ],
      "execution_count": 50,
      "outputs": [
        {
          "output_type": "stream",
          "text": [
            "['GOOG', 'TSLA', 'AAPL', 'T', 'SP500', 'BTC', 'EUR/USD']\n",
            "['GOOG', 'TSLA', 'AAPL']\n",
            "['SP500', 'BTC', 'EUR/USD']\n"
          ],
          "name": "stdout"
        }
      ]
    },
    {
      "cell_type": "markdown",
      "metadata": {
        "id": "UkLWVRadJqEx"
      },
      "source": [
        "**MINI CHALLENGE #3 SOLUTION:** \n",
        "- **Print GOOG**\n",
        "- **Print AAPL, GOOG, TSLA** \n",
        "- **Print T with two different ways**\n",
        "\n",
        "```\n",
        "my_list = [\"SP500\", [\"AAPL\", \"GOOG\", \"TSLA\"], \"BTC\", \"T\"]\n",
        "```\n"
      ]
    },
    {
      "cell_type": "code",
      "metadata": {
        "id": "ehC3hFiaJ1tI"
      },
      "source": [
        "my_list = [\"SP500\", [\"AAPL\", \"GOOG\", \"TSLA\"], \"BTC\", \"T\"]"
      ],
      "execution_count": 51,
      "outputs": []
    },
    {
      "cell_type": "code",
      "metadata": {
        "id": "gbsBgd3IHtDl",
        "outputId": "51225ccb-83d1-4963-ddde-8ca6da0474ef",
        "colab": {
          "base_uri": "https://localhost:8080/",
          "height": 34
        }
      },
      "source": [
        "print(my_list[1][1])"
      ],
      "execution_count": 52,
      "outputs": [
        {
          "output_type": "stream",
          "text": [
            "GOOG\n"
          ],
          "name": "stdout"
        }
      ]
    },
    {
      "cell_type": "code",
      "metadata": {
        "id": "0jim9gFbJudm",
        "outputId": "9d1dc109-ceb9-4500-f515-a60652ee1ed9",
        "colab": {
          "base_uri": "https://localhost:8080/",
          "height": 34
        }
      },
      "source": [
        "print(my_list[1])"
      ],
      "execution_count": 53,
      "outputs": [
        {
          "output_type": "stream",
          "text": [
            "['AAPL', 'GOOG', 'TSLA']\n"
          ],
          "name": "stdout"
        }
      ]
    },
    {
      "cell_type": "code",
      "metadata": {
        "id": "ze7mvHDaJucK",
        "outputId": "195501f5-aacb-405f-a62d-d1a4aae7c4dc",
        "colab": {
          "base_uri": "https://localhost:8080/",
          "height": 34
        }
      },
      "source": [
        "print(my_list[3])"
      ],
      "execution_count": 54,
      "outputs": [
        {
          "output_type": "stream",
          "text": [
            "T\n"
          ],
          "name": "stdout"
        }
      ]
    },
    {
      "cell_type": "code",
      "metadata": {
        "id": "xrSiB-jqJuYA",
        "outputId": "8d360170-d69a-4b86-c13a-e2801d18d44e",
        "colab": {
          "base_uri": "https://localhost:8080/",
          "height": 34
        }
      },
      "source": [
        "print(my_list[-1])"
      ],
      "execution_count": 55,
      "outputs": [
        {
          "output_type": "stream",
          "text": [
            "T\n"
          ],
          "name": "stdout"
        }
      ]
    },
    {
      "cell_type": "markdown",
      "metadata": {
        "id": "R3Wx0fsDMJN5"
      },
      "source": [
        "**MINI CHALLENGE #4 SOLUTION:**\n",
        "- **Create a dictionary with 3 of your favourite stocks and their prices** "
      ]
    },
    {
      "cell_type": "code",
      "metadata": {
        "id": "ySbAAjGkMJ7y",
        "outputId": "1792e536-91bd-4490-f79d-041b6bfc4f2d",
        "colab": {
          "base_uri": "https://localhost:8080/",
          "height": 34
        }
      },
      "source": [
        "stocks = {\"SP500\": 3000, \n",
        "          \"AAPL\": 400,\n",
        "          \"TSLA\": 2200}\n",
        "print(stocks)\n"
      ],
      "execution_count": 56,
      "outputs": [
        {
          "output_type": "stream",
          "text": [
            "{'SP500': 3000, 'AAPL': 400, 'TSLA': 2200}\n"
          ],
          "name": "stdout"
        }
      ]
    },
    {
      "cell_type": "markdown",
      "metadata": {
        "id": "_4QByu-tNjpA"
      },
      "source": [
        "**MINI CHALLENGE #5 SOLUTION:**\n",
        "- **Write a code that takes an input from a bank client asking him/her about their feedback regarding the service. The code should split the client input into words and print them on screen**\n"
      ]
    },
    {
      "cell_type": "code",
      "metadata": {
        "id": "nLWrLgB-NjpB",
        "outputId": "56624d1c-f3a1-41ec-933a-5f487e5fee8a",
        "colab": {
          "base_uri": "https://localhost:8080/",
          "height": 52
        }
      },
      "source": [
        "my_string = str(input(\"What did we do at the bank today? are you satisfied with the service\"))\n",
        "words = my_string.split(\" \")\n",
        "print(\"Here are the list of words you entered:\", words)"
      ],
      "execution_count": 85,
      "outputs": [
        {
          "output_type": "stream",
          "text": [
            "What did we do at the bank today? are you satisfied with the servicepleased enough\n",
            "Here are the list of words you entered: ['pleased', 'enough']\n"
          ],
          "name": "stdout"
        }
      ]
    },
    {
      "cell_type": "markdown",
      "metadata": {
        "id": "bFCp0wXKOqmz"
      },
      "source": [
        "**MINI CHALLENGE #6 SOLUTION:**\n",
        "- **Write a code that prompts a user requesting his/her e-mail and then extracts the user first name (Note that the e-mail is in firstname.lastname@gmail.com**\n"
      ]
    },
    {
      "cell_type": "code",
      "metadata": {
        "id": "mtgJJ3FaOqm0",
        "outputId": "ceded13e-ce0c-4824-c572-e89e9086559e",
        "colab": {
          "base_uri": "https://localhost:8080/",
          "height": 52
        }
      },
      "source": [
        "input_str = input(\"Welcome to the bank, please enter your e-mail address:\")\n",
        "out_str = input_str.split('@')\n",
        "out_str = out_str[0].split('.')\n",
        "print(out_str[0])"
      ],
      "execution_count": 86,
      "outputs": [
        {
          "output_type": "stream",
          "text": [
            "Welcome to the bank, please enter your e-mail address:Koko.gorilla@mombo.io\n",
            "Koko\n"
          ],
          "name": "stdout"
        }
      ]
    },
    {
      "cell_type": "markdown",
      "metadata": {
        "id": "L0OUSq6pQhNI"
      },
      "source": [
        "**MINI CHALLENGE #7 SOLUTION:**\n",
        "- **Define a tuple with your first name, last name, age and the number of stocks in your portfolio. Find the length and type as well.**\n"
      ]
    },
    {
      "cell_type": "code",
      "metadata": {
        "id": "aACA3yR3QhNJ"
      },
      "source": [
        "my_tuple = (\"Ryan\", \"ahmed\", 25, 10)\n",
        "print(my_tuple)"
      ],
      "execution_count": null,
      "outputs": []
    },
    {
      "cell_type": "code",
      "metadata": {
        "id": "ek6Lj_1YQhNN"
      },
      "source": [
        "len(my_tuple)"
      ],
      "execution_count": null,
      "outputs": []
    },
    {
      "cell_type": "code",
      "metadata": {
        "id": "wjbkGK-mQhNS"
      },
      "source": [
        "type(my_tuple)"
      ],
      "execution_count": null,
      "outputs": []
    },
    {
      "cell_type": "markdown",
      "metadata": {
        "id": "RrBoe1NJRmBi"
      },
      "source": [
        "**MINI CHALLENGE #8 SOLUTION:**\n",
        "- **Remove the duplicates from the following list:**\n",
        "\n",
        "\n",
        "```\n",
        "my_list = ['GOOG', 'APPL', 'T','TSLA','T','AAPL', 5, 6,5]\n",
        "```\n",
        "\n",
        "\n"
      ]
    },
    {
      "cell_type": "code",
      "metadata": {
        "id": "e3rGkHmnRnPf",
        "outputId": "4f5d4b7d-12b4-46ca-a859-ef1dc53e7152",
        "colab": {
          "base_uri": "https://localhost:8080/",
          "height": 34
        }
      },
      "source": [
        "my_list = ['GOOG', 'APPL', 'T','TSLA','T','AAPL', 5, 6, 5]\n",
        "out_list = list(set(my_list))\n",
        "print(out_list)"
      ],
      "execution_count": 87,
      "outputs": [
        {
          "output_type": "stream",
          "text": [
            "['APPL', 'T', 'TSLA', 5, 6, 'AAPL', 'GOOG']\n"
          ],
          "name": "stdout"
        }
      ]
    },
    {
      "cell_type": "code",
      "metadata": {
        "id": "Cwtyay_9UiZD"
      },
      "source": [
        ""
      ],
      "execution_count": null,
      "outputs": []
    }
  ]
}