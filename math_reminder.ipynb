{
 "cells": [
  {
   "cell_type": "markdown",
   "metadata": {
    "colab_type": "text",
    "id": "B1KBXIYhkuw5"
   },
   "source": [
    "# 1. VARIABLES ASSIGNMENT"
   ]
  },
  {
   "cell_type": "code",
   "execution_count": 1,
   "metadata": {
    "colab": {},
    "colab_type": "code",
    "id": "wsrqiWxMlQcd"
   },
   "outputs": [],
   "source": [
    "# Define a variable named \"portfolio_1\" and assign a number (integer) to it\n",
    "portfolio_1 = 1"
   ]
  },
  {
   "cell_type": "code",
   "execution_count": 2,
   "metadata": {
    "colab": {},
    "colab_type": "code",
    "id": "_7BUQ4lalVpE"
   },
   "outputs": [
    {
     "data": {
      "text/plain": [
       "1"
      ]
     },
     "execution_count": 2,
     "metadata": {},
     "output_type": "execute_result"
    }
   ],
   "source": [
    "# Let's view \"portfolio_1\"\n",
    "portfolio_1"
   ]
  },
  {
   "cell_type": "code",
   "execution_count": 3,
   "metadata": {
    "colab": {},
    "colab_type": "code",
    "id": "5RLjbN6alXBn"
   },
   "outputs": [],
   "source": [
    "# Define a variable named \"portfolio_2\" and assign a number (float) to it\n",
    "portfolio_2 = 1.1"
   ]
  },
  {
   "cell_type": "code",
   "execution_count": 4,
   "metadata": {
    "colab": {},
    "colab_type": "code",
    "id": "XaseHcnvlY7V"
   },
   "outputs": [
    {
     "data": {
      "text/plain": [
       "1.1"
      ]
     },
     "execution_count": 4,
     "metadata": {},
     "output_type": "execute_result"
    }
   ],
   "source": [
    "# Let's view \"portfolio_2\"\n",
    "portfolio_2"
   ]
  },
  {
   "cell_type": "code",
   "execution_count": 5,
   "metadata": {
    "colab": {},
    "colab_type": "code",
    "id": "1treMfL5phXx"
   },
   "outputs": [],
   "source": [
    "# Let's overwrite \"portfolio_2\" (assume your portfolio value increased)\n",
    "portfolio_2 = 1.2"
   ]
  },
  {
   "cell_type": "code",
   "execution_count": 6,
   "metadata": {
    "colab": {},
    "colab_type": "code",
    "id": "QaBaDH0fp5cf"
   },
   "outputs": [
    {
     "data": {
      "text/plain": [
       "1.2"
      ]
     },
     "execution_count": 6,
     "metadata": {},
     "output_type": "execute_result"
    }
   ],
   "source": [
    "# Notice that \"portfolio_2\" will only contain the most recent value\n",
    "portfolio_2"
   ]
  },
  {
   "cell_type": "code",
   "execution_count": 7,
   "metadata": {
    "colab": {},
    "colab_type": "code",
    "id": "fqZRkUkilb-5"
   },
   "outputs": [
    {
     "data": {
      "text/plain": [
       "int"
      ]
     },
     "execution_count": 7,
     "metadata": {},
     "output_type": "execute_result"
    }
   ],
   "source": [
    "# Get the type of \"portfolio_1\" which is integer\n",
    "# integer is a whole number (no decimals) that could be positive or negative\n",
    "type(portfolio_1)"
   ]
  },
  {
   "cell_type": "code",
   "execution_count": 8,
   "metadata": {
    "colab": {},
    "colab_type": "code",
    "id": "T0Rszu5xlceK"
   },
   "outputs": [
    {
     "data": {
      "text/plain": [
       "float"
      ]
     },
     "execution_count": 8,
     "metadata": {},
     "output_type": "execute_result"
    }
   ],
   "source": [
    "# Get the type of \"portfolio_2\" which is float\n",
    "# Float are real numbers with a decimal point dividing the integer and fractional parts\n",
    "type(portfolio_2)"
   ]
  },
  {
   "cell_type": "markdown",
   "metadata": {
    "colab_type": "text",
    "id": "75YN6NcVlv50"
   },
   "source": [
    "**MINI CHALLENGE #1:**\n",
    "- **We defined a variable AMZN (Ticker symbol for Amazon stock) and we assigned these 3 values listed below to it. Without executing any code cells, what will these lines of code generate?**\n",
    "- **Verify your answer by executing the code cells** \n",
    "\n",
    "\n",
    "\n",
    "```\n",
    "AMZN = 3324\n",
    "AMZN = 3400\n",
    "AMZN = 3530\n",
    "AMZN\n",
    "```\n"
   ]
  },
  {
   "cell_type": "code",
   "execution_count": 11,
   "metadata": {
    "colab": {},
    "colab_type": "code",
    "id": "AbXq1BsUpcpu"
   },
   "outputs": [
    {
     "data": {
      "text/plain": [
       "3530"
      ]
     },
     "execution_count": 11,
     "metadata": {},
     "output_type": "execute_result"
    }
   ],
   "source": [
    "3530"
   ]
  },
  {
   "cell_type": "markdown",
   "metadata": {
    "colab_type": "text",
    "id": "m-cJsnjeoFOa"
   },
   "source": [
    "**MINI CHALLENGE #2:**\n",
    "- **We defined a variable AAPL (Ticker symbol for Apple stock) and we assigned these 2 values listed below to it. Without executing any code cells, what will these lines of code generate?**\n",
    "- **Verify your answer by executing the code cells** \n",
    "\n",
    "\n",
    "\n",
    "```\n",
    "AAPL = 112\n",
    "AAPL = 115.3\n",
    "type(AAPL)\n",
    "```\n"
   ]
  },
  {
   "cell_type": "code",
   "execution_count": 12,
   "metadata": {
    "colab": {},
    "colab_type": "code",
    "id": "wjaFVDJ2oESl"
   },
   "outputs": [
    {
     "data": {
      "text/plain": [
       "float"
      ]
     },
     "execution_count": 12,
     "metadata": {},
     "output_type": "execute_result"
    }
   ],
   "source": [
    "float"
   ]
  },
  {
   "cell_type": "markdown",
   "metadata": {
    "colab_type": "text",
    "id": "lsCfJJEkkqGQ"
   },
   "source": [
    "# 2. MATH OPERATIONS"
   ]
  },
  {
   "cell_type": "code",
   "execution_count": 17,
   "metadata": {
    "colab": {},
    "colab_type": "code",
    "id": "vxspxvj2qTrx"
   },
   "outputs": [
    {
     "data": {
      "text/plain": [
       "6"
      ]
     },
     "execution_count": 17,
     "metadata": {},
     "output_type": "execute_result"
    }
   ],
   "source": [
    "# Define a variable named AAPL and initialize it with 5 indicating that we own 5 stocks\n",
    "# Let's assume that we bought an additional stock so now we have 6 stocks instead of 5 \n",
    "# We can increment AAPL by 1 stock as follows:\n",
    "AAPL = 5\n",
    "AAPL += 1\n",
    "AAPL"
   ]
  },
  {
   "cell_type": "code",
   "execution_count": 18,
   "metadata": {
    "colab": {},
    "colab_type": "code",
    "id": "ouiM4Bjar5aG"
   },
   "outputs": [],
   "source": [
    "# Alternatively, we can increment the variable AAPL by 1 as follows:\n",
    "AAPL = AAPL + 1"
   ]
  },
  {
   "cell_type": "code",
   "execution_count": 19,
   "metadata": {
    "colab": {},
    "colab_type": "code",
    "id": "zkO001-qcZc3"
   },
   "outputs": [
    {
     "data": {
      "text/plain": [
       "1300"
      ]
     },
     "execution_count": 19,
     "metadata": {},
     "output_type": "execute_result"
    }
   ],
   "source": [
    "# Let's assume that the price of AAPL stock is $260 and we currently have 5 AAPL stocks in our portfolio\n",
    "# We can calculate the total portfolio value (account balance) as follows:\n",
    "account_balance = 260 * 5\n",
    "account_balance"
   ]
  },
  {
   "cell_type": "code",
   "execution_count": 22,
   "metadata": {
    "colab": {},
    "colab_type": "code",
    "id": "4bXP93aqejr1"
   },
   "outputs": [
    {
     "data": {
      "text/plain": [
       "6.418485237483954"
      ]
     },
     "execution_count": 22,
     "metadata": {},
     "output_type": "execute_result"
    }
   ],
   "source": [
    "# Let's assume you have $20000 USD in our account\n",
    "# We want to buy AMZN stocks using the total amount \n",
    "# AMZN stock is priced at $3116 each\n",
    "total_amount = 20000\n",
    "AMZN_stock_to_buy = total_amount / 3116\n",
    "AMZN_stock_to_buy\n"
   ]
  },
  {
   "cell_type": "code",
   "execution_count": 24,
   "metadata": {
    "colab": {},
    "colab_type": "code",
    "id": "Mc569vLOqxzg"
   },
   "outputs": [
    {
     "data": {
      "text/plain": [
       "6.418485237483954"
      ]
     },
     "execution_count": 24,
     "metadata": {},
     "output_type": "execute_result"
    }
   ],
   "source": [
    "# Divide the account balance by Amazon stock price and place the answer in units\n",
    "units = AMZN_stock_to_buy \n",
    "units"
   ]
  },
  {
   "cell_type": "markdown",
   "metadata": {
    "colab_type": "text",
    "id": "8UaT7FRdNnCQ"
   },
   "source": [
    "**MINI CHALLENGE #3:** \n",
    "- **Write a code that calculates the total value of a portfolio assuming that you own 15 Google stocks (Sticker Symbol: GOOG) priced at 1500 each** \n"
   ]
  },
  {
   "cell_type": "code",
   "execution_count": 25,
   "metadata": {
    "colab": {},
    "colab_type": "code",
    "id": "qMFnXorONnoa"
   },
   "outputs": [
    {
     "data": {
      "text/plain": [
       "22500"
      ]
     },
     "execution_count": 25,
     "metadata": {},
     "output_type": "execute_result"
    }
   ],
   "source": [
    "GOOG_total_value = 15 * 1500\n",
    "GOOG_total_value"
   ]
  },
  {
   "cell_type": "markdown",
   "metadata": {
    "colab_type": "text",
    "id": "iB_6pgJeNnCV"
   },
   "source": [
    "**MINI CHALLENGE #4:**\n",
    "- **Write a code that takes in Google (GOOG) stock prices at two days and calculate the return:**\n",
    "  - **GOOG price on day 1 = \\$260** \n",
    "  - **GOOG price on day 2 = \\$280**"
   ]
  },
  {
   "cell_type": "markdown",
   "metadata": {
    "colab_type": "text",
    "id": "b_4wxmCklMQE"
   },
   "source": [
    "# 3. ORDER OF OPERATIONS (PRECEDENCE)"
   ]
  },
  {
   "cell_type": "code",
   "execution_count": null,
   "metadata": {
    "colab": {},
    "colab_type": "code",
    "id": "PDPpISzEkov3"
   },
   "outputs": [],
   "source": [
    "# add 3 and 4 and then multiply the answer by 5\n",
    "# Note that parantheses have the highest precedence\n",
    "3 + 4 * 5 "
   ]
  },
  {
   "cell_type": "code",
   "execution_count": null,
   "metadata": {
    "colab": {},
    "colab_type": "code",
    "id": "lqvGyX4psG6L"
   },
   "outputs": [],
   "source": [
    "# Multiplication has higher precedence compared to addition\n"
   ]
  },
  {
   "cell_type": "code",
   "execution_count": null,
   "metadata": {
    "colab": {},
    "colab_type": "code",
    "id": "Nx2IPN34sI0A"
   },
   "outputs": [],
   "source": [
    "# Division has higher precedence compared to addition\n"
   ]
  },
  {
   "cell_type": "code",
   "execution_count": 28,
   "metadata": {
    "colab": {},
    "colab_type": "code",
    "id": "A-sBw_wsdRTc"
   },
   "outputs": [
    {
     "data": {
      "text/plain": [
       "7.692307692307693"
      ]
     },
     "execution_count": 28,
     "metadata": {},
     "output_type": "execute_result"
    }
   ],
   "source": [
    "#calculate the difference of the GOOG stock price from investment date to nowaday\n",
    "day_1_return = 260\n",
    "now_return = 280\n",
    "GOOG_return_now = now_return - day_1_return\n",
    "GOOG_return_now\n",
    "percentage_change = (now_return/day_1_return)*100 - 100\n",
    "percentage_change"
   ]
  },
  {
   "cell_type": "code",
   "execution_count": 29,
   "metadata": {},
   "outputs": [
    {
     "data": {
      "text/plain": [
       "7.6923076923076925"
      ]
     },
     "execution_count": 29,
     "metadata": {},
     "output_type": "execute_result"
    }
   ],
   "source": [
    "# variant 2\n",
    "start_price = day_1_return\n",
    "actual_price = now_return\n",
    "actual_price_difference = actual_price - start_price\n",
    "percent_change = (actual_price_difference / start_price) * 100\n",
    "percent_change"
   ]
  },
  {
   "cell_type": "markdown",
   "metadata": {
    "colab_type": "text",
    "id": "LD0jeVJddRrf"
   },
   "source": [
    "**MINI CHALLENGE #5:**\n",
    "- **Assume that you own 15 shares of AAPL stock priced at \\$150 a share. Apple announced the launch of 5 new products with exceptional features so the stock price increased to $170 a share. Calculate the total profit.**\n",
    "\n",
    "\n",
    "\n",
    "\n"
   ]
  },
  {
   "cell_type": "code",
   "execution_count": 30,
   "metadata": {
    "colab": {},
    "colab_type": "code",
    "id": "ieENt2DUNwDC"
   },
   "outputs": [
    {
     "data": {
      "text/plain": [
       "300"
      ]
     },
     "execution_count": 30,
     "metadata": {},
     "output_type": "execute_result"
    }
   ],
   "source": [
    "AAPL_share_price_start = 150\n",
    "AAPL_share_price_actual = 170\n",
    "AAPL_share_num = 15\n",
    "AAPL_price_difference = AAPL_share_price_actual - AAPL_share_price_start\n",
    "AAPL_profit = AAPL_share_num * AAPL_price_difference\n",
    "AAPL_profit"
   ]
  },
  {
   "cell_type": "markdown",
   "metadata": {
    "colab_type": "text",
    "id": "s79S7MtycPGX"
   },
   "source": [
    "**MINI CHALLENGE #6:** \n",
    "- **Write a code that performs the following mathematical operation: z = |x − y| * (x + y)**"
   ]
  },
  {
   "cell_type": "code",
   "execution_count": 47,
   "metadata": {
    "colab": {},
    "colab_type": "code",
    "id": "yGVvKkDKc0LR"
   },
   "outputs": [
    {
     "data": {
      "text/plain": [
       "24"
      ]
     },
     "execution_count": 47,
     "metadata": {},
     "output_type": "execute_result"
    }
   ],
   "source": [
    "import math\n",
    "x = 1\n",
    "y = 5\n",
    "z = abs(x-y)*(x+y)\n",
    "z"
   ]
  },
  {
   "cell_type": "markdown",
   "metadata": {
    "colab_type": "text",
    "id": "Jvxd_A696qnl"
   },
   "source": [
    "# 4. PRINT OPERATION"
   ]
  },
  {
   "cell_type": "code",
   "execution_count": 34,
   "metadata": {
    "colab": {},
    "colab_type": "code",
    "id": "74NV4Ix36wE2"
   },
   "outputs": [],
   "source": [
    "# Print function is used to print elements on the screen\n",
    "# Define a string x \n",
    "# A string in Python is a sequence of characters\n",
    "# String in python are surrounded by single or double quotation marks\n",
    "x = \"str\""
   ]
  },
  {
   "cell_type": "code",
   "execution_count": 35,
   "metadata": {
    "colab": {},
    "colab_type": "code",
    "id": "08UQhKoR8d3H"
   },
   "outputs": [
    {
     "name": "stdout",
     "output_type": "stream",
     "text": [
      "<class 'str'>\n"
     ]
    }
   ],
   "source": [
    "# Obtain the data type for 'x'\n",
    "print(type(x))"
   ]
  },
  {
   "cell_type": "code",
   "execution_count": 36,
   "metadata": {
    "colab": {},
    "colab_type": "code",
    "id": "1nHBcL7D61YQ"
   },
   "outputs": [
    {
     "data": {
      "text/plain": [
       "'str'"
      ]
     },
     "execution_count": 36,
     "metadata": {},
     "output_type": "execute_result"
    }
   ],
   "source": [
    "# Print x\n",
    "x"
   ]
  },
  {
   "cell_type": "code",
   "execution_count": 37,
   "metadata": {
    "colab": {},
    "colab_type": "code",
    "id": "7JUqe3DF7WQv"
   },
   "outputs": [],
   "source": [
    "# Define a string and put 'Apple Inc.' in it\n",
    "str_y = 'Apple Inc.'"
   ]
  },
  {
   "cell_type": "code",
   "execution_count": 39,
   "metadata": {
    "colab": {},
    "colab_type": "code",
    "id": "J_r5_BGt7Wsg"
   },
   "outputs": [
    {
     "name": "stdout",
     "output_type": "stream",
     "text": [
      "This is x: 'str', and this is y: 'Apple Inc.'\n"
     ]
    }
   ],
   "source": [
    "# The format() method formats the specified value and insert it in the placeholder. \n",
    "# The placeholder is defined using curly braces: {}\n",
    "print(\"This is x: '{}', and this is y: '{}'\".format(x, str_y))"
   ]
  },
  {
   "cell_type": "code",
   "execution_count": null,
   "metadata": {
    "colab": {},
    "colab_type": "code",
    "id": "cn5wkGcL7Wqs"
   },
   "outputs": [],
   "source": []
  },
  {
   "cell_type": "code",
   "execution_count": null,
   "metadata": {
    "colab": {},
    "colab_type": "code",
    "id": "mcIEXuw47Wpk"
   },
   "outputs": [],
   "source": [
    "# You can place two or more placeholders with print function \n"
   ]
  },
  {
   "cell_type": "markdown",
   "metadata": {
    "colab_type": "text",
    "id": "__Ybj8rmGKpY"
   },
   "source": [
    "**MINI CHALLENGE #7:**\n",
    "- **Write a code that print out the above statement along with AAPL ticker**\n",
    "- **i.e.: I own 30 shares of Apple Inc.(AAPL)** "
   ]
  },
  {
   "cell_type": "code",
   "execution_count": null,
   "metadata": {
    "colab": {},
    "colab_type": "code",
    "id": "i6LmOCF6Gd6G"
   },
   "outputs": [],
   "source": []
  },
  {
   "cell_type": "markdown",
   "metadata": {
    "colab_type": "text",
    "id": "hp9P-qXN-Gll"
   },
   "source": [
    "# 5. GET USER INPUT"
   ]
  },
  {
   "cell_type": "code",
   "execution_count": 40,
   "metadata": {
    "colab": {},
    "colab_type": "code",
    "id": "FFghOQVi7Wh_"
   },
   "outputs": [
    {
     "name": "stdout",
     "output_type": "stream",
     "text": [
      "\n",
      "Please provide bank client name: Alex\n",
      "Alex\n"
     ]
    }
   ],
   "source": [
    "# input is a built-in function in python\n",
    "# Get bank client name as an input and print it out on the screen \n",
    "bank_client_name = input(\"\\nPlease provide bank client name: \")\n",
    "print(bank_client_name)"
   ]
  },
  {
   "cell_type": "code",
   "execution_count": null,
   "metadata": {
    "colab": {},
    "colab_type": "code",
    "id": "u4D5GDGP7Wgm"
   },
   "outputs": [],
   "source": [
    "# Obtain bank client data such as name, age and assets and print them all out on the screen\n"
   ]
  },
  {
   "cell_type": "code",
   "execution_count": null,
   "metadata": {
    "colab": {},
    "colab_type": "code",
    "id": "W6hQp4YP7Wdr"
   },
   "outputs": [],
   "source": [
    "# Obtain user inputs, perform mathematical operation, and print the results \n",
    "# Note: Are you getting an error? Move to the next code cell \n"
   ]
  },
  {
   "cell_type": "code",
   "execution_count": 43,
   "metadata": {
    "colab": {},
    "colab_type": "code",
    "id": "abPg-86q7Waq"
   },
   "outputs": [
    {
     "name": "stdout",
     "output_type": "stream",
     "text": [
      "Payment amount for 'Alex': 20000\n",
      "Alex, your final balance is :24000\n"
     ]
    }
   ],
   "source": [
    "# Convert from string datatype to integer datatype prior to performing addition\n",
    "initial_balance = 4000\n",
    "payment = int(input(\"Payment amount for '{}': \".format(bank_client_name)))\n",
    "final_balance = initial_balance + payment\n",
    "print(\"\" + bank_client_name + \", your final balance is :{}\".format(final_balance))"
   ]
  },
  {
   "cell_type": "markdown",
   "metadata": {
    "colab_type": "text",
    "id": "L8v5D4y1CIUQ"
   },
   "source": [
    "**MINI CHALLENGE #8:** \n",
    "- **Write a code that takes in the name of the stock, price at which it is selling, the number of stocks that you want to own and prints out the total funds required to buy this stock. Find a sample expected output below:**\n",
    "\n",
    "  - Enter the price of the stock you want to buy: 3000  \n",
    "  - Enter the number of stocks that you want to buy: 5\n",
    "  - Enter the name of the stock that you want to buy: AMZN\n",
    "  - The total funds required to buy 5 number of AMZN stocks at 3000 is 15000\n"
   ]
  },
  {
   "cell_type": "code",
   "execution_count": 46,
   "metadata": {},
   "outputs": [
    {
     "name": "stdout",
     "output_type": "stream",
     "text": [
      "\n",
      " Enter chosen stock price: 150\n",
      "\n",
      " Enter the chosen stock number that you want to buy: 2\n",
      "\n",
      " Enter your chosen stock name: Fo\n",
      "\n",
      "  For your chosen investment plan: 2 'Fo' stocks at price 150.0 will cost: 300.0\n"
     ]
    }
   ],
   "source": [
    "chosen_stock_price = float(input(\"\\n Enter chosen stock price: \"))\n",
    "chosen_stock_num = int(input(\"\\n Enter the chosen stock number that you want to buy: \"))\n",
    "chosen_stock_name = input(\"\\n Enter your chosen stock name: \")\n",
    "chosen_stock_cost = chosen_stock_num * chosen_stock_price\n",
    "result = \"For your chosen investment plan: {} '{}' stocks at price {} will cost: {}\".format(chosen_stock_num,chosen_stock_name,chosen_stock_price,chosen_stock_cost)\n",
    "print(\"\\n \", result)"
   ]
  },
  {
   "cell_type": "markdown",
   "metadata": {
    "colab_type": "text",
    "id": "Jm-0XhPntGtK"
   },
   "source": [
    "# EXCELLENT JOB"
   ]
  },
  {
   "cell_type": "markdown",
   "metadata": {
    "colab_type": "text",
    "id": "_wuaDbzWm-i8"
   },
   "source": [
    "# MINI CHALLENGES SOLUTIONS"
   ]
  },
  {
   "cell_type": "markdown",
   "metadata": {
    "colab_type": "text",
    "id": "Xq-Y8OW0nG8O"
   },
   "source": [
    "**MINI CHALLENGE #1:**\n",
    "- **We defined a variable AMZN (Ticker symbol for Amazon stock) and we assigned these 3 values listed below to it. Without executing any code cells, what will these lines of code generate?**\n",
    "- **Verify your answer by executing the code cells** \n",
    "\n",
    "\n",
    "\n",
    "```\n",
    "AMZN = 3324\n",
    "AMZN = 3400\n",
    "AMZN = 3530\n",
    "AMZN\n",
    "```\n"
   ]
  },
  {
   "cell_type": "code",
   "execution_count": null,
   "metadata": {
    "colab": {},
    "colab_type": "code",
    "id": "R_CHNPWbnAf0"
   },
   "outputs": [],
   "source": [
    "# The output of this code is 3530\n",
    "# Initially we put 3324 in AMZN, then we overwrite it by placing 3400 in AMZN, and then 3530 in AMZN\n",
    "AMZN = 3324\n",
    "AMZN = 3400\n",
    "AMZN = 3530\n",
    "AMZN"
   ]
  },
  {
   "cell_type": "markdown",
   "metadata": {
    "colab_type": "text",
    "id": "0tFG_HiJoWiM"
   },
   "source": [
    "**MINI CHALLENGE #2:**\n",
    "- **We defined a variable AAPL (Ticker symbol for Apple stock) and we assigned these 2 values listed below to it. Without executing any code cells, what will these lines of code generate?**\n",
    "- **Verify your answer by executing the code cells** \n",
    "\n",
    "\n",
    "\n",
    "```\n",
    "AAPL = 112\n",
    "AAPL = 115.3\n",
    "type(AAPL)\n",
    "```"
   ]
  },
  {
   "cell_type": "code",
   "execution_count": null,
   "metadata": {
    "colab": {},
    "colab_type": "code",
    "id": "p449NLcAnCbu"
   },
   "outputs": [],
   "source": [
    "AAPL = 112\n",
    "AAPL = 115.3\n",
    "type(AAPL)"
   ]
  },
  {
   "cell_type": "markdown",
   "metadata": {
    "colab_type": "text",
    "id": "ayH1UnrYYokG"
   },
   "source": [
    "**MINI CHALLENGE #3 SOLUTION:** \n",
    "- **Write a code that calculates the total value of a portfolio assuming that you own 15 Google stocks (Sticker Symbol: GOOG) priced at 1500 each** \n"
   ]
  },
  {
   "cell_type": "code",
   "execution_count": null,
   "metadata": {
    "colab": {},
    "colab_type": "code",
    "id": "6XGSaa4uoZgs"
   },
   "outputs": [],
   "source": [
    "price  = 1500\n",
    "x  = 15\n",
    "amount = x * price\n",
    "amount"
   ]
  },
  {
   "cell_type": "markdown",
   "metadata": {
    "colab_type": "text",
    "id": "kfyhdekfaUnr"
   },
   "source": [
    "**MINI CHALLENGE #4 SOLUTION:**\n",
    "- **Write a code that takes in Google (GOOG) stock prices at two days and calculate the return:**\n",
    "  - **GOOG price on day 1 = \\$260** \n",
    "  - **GOOG price on day 2 = \\$280**"
   ]
  },
  {
   "cell_type": "code",
   "execution_count": null,
   "metadata": {
    "colab": {},
    "colab_type": "code",
    "id": "SUdMEr51Y0cR"
   },
   "outputs": [],
   "source": [
    "GOOG_price_1 = 260\n",
    "GOOG_price_2 = 280\n",
    "\n",
    "price_diff = GOOG_price_2 - GOOG_price_1\n",
    "percentage_change = price_diff / GOOG_price_1 * 100\n",
    "\n",
    "percentage_change"
   ]
  },
  {
   "cell_type": "markdown",
   "metadata": {
    "colab_type": "text",
    "id": "fSJnUnEvdv3T"
   },
   "source": [
    "**MINI CHALLENGE #5 SOLUTION:**\n",
    "- **Assume that you own 15 shares of AAPL stock priced at \\$150 a share. Apple announced the launch of 5 new products with exceptional features so the stock price increased to $170 a share. Calculate the total profit.**\n"
   ]
  },
  {
   "cell_type": "code",
   "execution_count": null,
   "metadata": {
    "colab": {},
    "colab_type": "code",
    "id": "xf-UX5aFd11W"
   },
   "outputs": [],
   "source": [
    "AAPL_new = 170\n",
    "AAPL_old = 150\n",
    "num_shares = 15\n",
    "profit = (AAPL_new - AAPL_old) * num_shares   \n",
    "profit"
   ]
  },
  {
   "cell_type": "markdown",
   "metadata": {
    "colab_type": "text",
    "id": "z0zgdSWqc2oa"
   },
   "source": [
    "**MINI CHALLENGE #6 SOLUTION:** \n",
    "- **Write a code that performs the following mathematical operation: z = |x − y| * (x + y)**"
   ]
  },
  {
   "cell_type": "code",
   "execution_count": null,
   "metadata": {
    "colab": {},
    "colab_type": "code",
    "id": "zILwh7ILc4kq"
   },
   "outputs": [],
   "source": [
    "x = 4\n",
    "y = 2\n",
    "z = abs(x-y) * (x+y)"
   ]
  },
  {
   "cell_type": "markdown",
   "metadata": {
    "colab_type": "text",
    "id": "GSto5juvGlGM"
   },
   "source": [
    "**MINI CHALLENGE #7 SOLUTION:**\n",
    "- **Write a code that print out the above statement along with AAPL ticker**\n",
    "- **i.e.: I own 30 shares of Apple Inc.(AAPL)** "
   ]
  },
  {
   "cell_type": "code",
   "execution_count": null,
   "metadata": {
    "colab": {},
    "colab_type": "code",
    "id": "6YfhUSPhGn46"
   },
   "outputs": [],
   "source": [
    "ticker = 'AAPL'\n",
    "print(\"I own {} shares of {}({})\".format(shares, company_name, ticker))"
   ]
  },
  {
   "cell_type": "markdown",
   "metadata": {
    "colab_type": "text",
    "id": "iKU27yueFUoI"
   },
   "source": [
    "**MINI CHALLENGE #8 SOLUTION:** \n",
    "- **Write a code that takes in the name of the stock, price at which it is selling, the number of stocks that you want to own and prints out the total funds required to buy this stock. Find a sample expected output below:**\n",
    "\n",
    "  - Enter the price of the stock you want to buy: 3000  \n",
    "  - Enter the number of stocks that you want to buy: 5\n",
    "  - Enter the name of the stock that you want to buy: AMZN\n",
    "  - The total funds required to buy 5 number of AMZN stocks at 3000 is 15000\n",
    "\n"
   ]
  },
  {
   "cell_type": "code",
   "execution_count": null,
   "metadata": {
    "colab": {},
    "colab_type": "code",
    "id": "YsOyGpwiFWDK"
   },
   "outputs": [],
   "source": [
    "x = input(\"Enter the price of the stock you want to buy: \")\n",
    "x = int(x)\n",
    "y = input(\"Enter the number of stocks that you want to buy: \")\n",
    "y = int(y)\n",
    "z = input(\"Enter the name of the stock that you want to buy: \")\n",
    "print('The total funds required to buy {} number of {} stocks at {} is {}'.format(y,z,x, x*y)) "
   ]
  },
  {
   "cell_type": "code",
   "execution_count": null,
   "metadata": {
    "colab": {},
    "colab_type": "code",
    "id": "CDRHLx0Tah7T"
   },
   "outputs": [],
   "source": []
  }
 ],
 "metadata": {
  "colab": {
   "collapsed_sections": [],
   "name": "1. Python 101 - Variables Assignment, Math Ops, Precedence, and Print/Get - Skeleton before filming.ipynb",
   "provenance": []
  },
  "kernelspec": {
   "display_name": "Python 3",
   "language": "python",
   "name": "python3"
  },
  "language_info": {
   "codemirror_mode": {
    "name": "ipython",
    "version": 3
   },
   "file_extension": ".py",
   "mimetype": "text/x-python",
   "name": "python",
   "nbconvert_exporter": "python",
   "pygments_lexer": "ipython3",
   "version": "3.7.6"
  }
 },
 "nbformat": 4,
 "nbformat_minor": 1
}
